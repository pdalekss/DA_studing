{
 "cells": [
  {
   "cell_type": "markdown",
   "id": "54bc29c1",
   "metadata": {},
   "source": [
    "А/А-тестирование мобильного приложения. Необходимо посчитать результаты A/A-теста, проверяя метрику качества FPR (будем проверять на конверсии в покупку). Известно, что сплит-система сломана. Требуется проверить утверждение о поломке и найти ее причины, если сплит-система действительно сломана\n",
    "\n",
    " \n",
    "\n",
    "Описание колонок\n",
    "\n",
    "experimentVariant – вариант эксперимента\n",
    "\n",
    "version – версия приложения\n",
    "\n",
    "purchase – факт покупки"
   ]
  },
  {
   "cell_type": "code",
   "execution_count": 63,
   "id": "96c232fe",
   "metadata": {},
   "outputs": [],
   "source": [
    "import pandas as pd\n",
    "import seaborn as sns\n",
    "import matplotlib.pyplot as plt\n",
    "import pingouin as pg\n",
    "import scipy.stats as st\n",
    "import numpy as np\n",
    "from tqdm.auto import tqdm\n",
    "\n",
    "sns.set(\n",
    "    font_scale=1.2\n",
    ")\n"
   ]
  },
  {
   "cell_type": "code",
   "execution_count": 4,
   "id": "d43da92c",
   "metadata": {},
   "outputs": [
    {
     "data": {
      "text/html": [
       "<div>\n",
       "<style scoped>\n",
       "    .dataframe tbody tr th:only-of-type {\n",
       "        vertical-align: middle;\n",
       "    }\n",
       "\n",
       "    .dataframe tbody tr th {\n",
       "        vertical-align: top;\n",
       "    }\n",
       "\n",
       "    .dataframe thead th {\n",
       "        text-align: right;\n",
       "    }\n",
       "</style>\n",
       "<table border=\"1\" class=\"dataframe\">\n",
       "  <thead>\n",
       "    <tr style=\"text-align: right;\">\n",
       "      <th></th>\n",
       "      <th>Unnamed: 0</th>\n",
       "      <th>uid</th>\n",
       "      <th>experimentVariant</th>\n",
       "      <th>version</th>\n",
       "      <th>purchase</th>\n",
       "    </tr>\n",
       "  </thead>\n",
       "  <tbody>\n",
       "    <tr>\n",
       "      <th>0</th>\n",
       "      <td>1</td>\n",
       "      <td>c4ca4238a0b923820dcc509a6f75849b</td>\n",
       "      <td>1</td>\n",
       "      <td>v2.8.0</td>\n",
       "      <td>0</td>\n",
       "    </tr>\n",
       "    <tr>\n",
       "      <th>1</th>\n",
       "      <td>2</td>\n",
       "      <td>c81e728d9d4c2f636f067f89cc14862c</td>\n",
       "      <td>0</td>\n",
       "      <td>v2.9.0</td>\n",
       "      <td>0</td>\n",
       "    </tr>\n",
       "    <tr>\n",
       "      <th>2</th>\n",
       "      <td>3</td>\n",
       "      <td>eccbc87e4b5ce2fe28308fd9f2a7baf3</td>\n",
       "      <td>1</td>\n",
       "      <td>v2.9.0</td>\n",
       "      <td>0</td>\n",
       "    </tr>\n",
       "    <tr>\n",
       "      <th>3</th>\n",
       "      <td>4</td>\n",
       "      <td>a87ff679a2f3e71d9181a67b7542122c</td>\n",
       "      <td>1</td>\n",
       "      <td>v2.8.0</td>\n",
       "      <td>0</td>\n",
       "    </tr>\n",
       "    <tr>\n",
       "      <th>4</th>\n",
       "      <td>5</td>\n",
       "      <td>e4da3b7fbbce2345d7772b0674a318d5</td>\n",
       "      <td>1</td>\n",
       "      <td>v2.8.0</td>\n",
       "      <td>0</td>\n",
       "    </tr>\n",
       "  </tbody>\n",
       "</table>\n",
       "</div>"
      ],
      "text/plain": [
       "   Unnamed: 0                               uid  experimentVariant version  \\\n",
       "0           1  c4ca4238a0b923820dcc509a6f75849b                  1  v2.8.0   \n",
       "1           2  c81e728d9d4c2f636f067f89cc14862c                  0  v2.9.0   \n",
       "2           3  eccbc87e4b5ce2fe28308fd9f2a7baf3                  1  v2.9.0   \n",
       "3           4  a87ff679a2f3e71d9181a67b7542122c                  1  v2.8.0   \n",
       "4           5  e4da3b7fbbce2345d7772b0674a318d5                  1  v2.8.0   \n",
       "\n",
       "   purchase  \n",
       "0         0  \n",
       "1         0  \n",
       "2         0  \n",
       "3         0  \n",
       "4         0  "
      ]
     },
     "execution_count": 4,
     "metadata": {},
     "output_type": "execute_result"
    }
   ],
   "source": [
    "data = pd.read_csv('hw_aa.csv', sep=';')\n",
    "data.head()"
   ]
  },
  {
   "cell_type": "markdown",
   "id": "18d0f1dd",
   "metadata": {},
   "source": [
    "# Запустите A/A-тест"
   ]
  },
  {
   "cell_type": "markdown",
   "id": "37cbe4df",
   "metadata": {},
   "source": [
    "* Посмотрим каждую группу по отдельности "
   ]
  },
  {
   "cell_type": "code",
   "execution_count": 8,
   "id": "e04adb35",
   "metadata": {},
   "outputs": [],
   "source": [
    "group_1 = data.query('experimentVariant == 0')"
   ]
  },
  {
   "cell_type": "code",
   "execution_count": 9,
   "id": "618008a0",
   "metadata": {},
   "outputs": [],
   "source": [
    "group_2 = data.query('experimentVariant == 1')"
   ]
  },
  {
   "cell_type": "code",
   "execution_count": 14,
   "id": "7e04297f",
   "metadata": {},
   "outputs": [
    {
     "data": {
      "text/plain": [
       "63102"
      ]
     },
     "execution_count": 14,
     "metadata": {},
     "output_type": "execute_result"
    }
   ],
   "source": [
    "group_1.value_counts().sum()"
   ]
  },
  {
   "cell_type": "code",
   "execution_count": 15,
   "id": "7b994460",
   "metadata": {},
   "outputs": [
    {
     "data": {
      "text/plain": [
       "63916"
      ]
     },
     "execution_count": 15,
     "metadata": {},
     "output_type": "execute_result"
    }
   ],
   "source": [
    "group_2.value_counts().sum()"
   ]
  },
  {
   "cell_type": "markdown",
   "id": "6e2ea6a6",
   "metadata": {},
   "source": [
    "## !!\n",
    "\n",
    "purchase – факт покупки - бинарное выражение\n",
    "\n",
    "Чтобы посмотреть конверсию, можно взять среднее от всей колонки "
   ]
  },
  {
   "cell_type": "code",
   "execution_count": 81,
   "id": "4343e93d",
   "metadata": {},
   "outputs": [
    {
     "data": {
      "application/vnd.jupyter.widget-view+json": {
       "model_id": "a2466fbb04ca4c32acfb4e98527b7ef6",
       "version_major": 2,
       "version_minor": 0
      },
      "text/plain": [
       "  0%|          | 0/1000 [00:00<?, ?it/s]"
      ]
     },
     "metadata": {},
     "output_type": "display_data"
    },
    {
     "data": {
      "text/plain": [
       "0.945"
      ]
     },
     "execution_count": 81,
     "metadata": {},
     "output_type": "execute_result"
    },
    {
     "data": {
      "image/png": "[encoded data removed]",
      "text/plain": [
       "<Figure size 691.2x576 with 1 Axes>"
      ]
     },
     "metadata": {},
     "output_type": "display_data"
    }
   ],
   "source": [
    "n_s = 1000 #число элементов в эксперементальной выборке из группы \n",
    "sim = 1000 #число поторений эксперимента\n",
    "res = []\n",
    "\n",
    "for _ in tqdm(range(sim)):\n",
    "    sample_1 = group_1.purchase.sample(n_s, replace=False).values\n",
    "    sample_2 = group_2.purchase.sample(n_s, replace=False).values\n",
    "    res.append(st.ttest_ind(sample_1, sample_2)[1])\n",
    "\n",
    "sns.displot(res, height=8, aspect=1.2, bins=50)    \n",
    "    \n",
    "sum(np.array(res) < 0.05) / sim"
   ]
  },
  {
   "cell_type": "markdown",
   "id": "4dc1f1d1",
   "metadata": {},
   "source": [
    "### А/А тест показывает, что выборки сильно различаются"
   ]
  },
  {
   "cell_type": "markdown",
   "id": "a15ea474",
   "metadata": {},
   "source": [
    "# Найдите причины поломки сплит-системы, ориентируясь на результаты эксперимента "
   ]
  },
  {
   "cell_type": "markdown",
   "id": "4641e056",
   "metadata": {},
   "source": [
    "* Посмотрим на конверсию для с разных версий приложения"
   ]
  },
  {
   "cell_type": "code",
   "execution_count": 91,
   "id": "e8c874cb",
   "metadata": {},
   "outputs": [
    {
     "data": {
      "text/html": [
       "<div>\n",
       "<style scoped>\n",
       "    .dataframe tbody tr th:only-of-type {\n",
       "        vertical-align: middle;\n",
       "    }\n",
       "\n",
       "    .dataframe tbody tr th {\n",
       "        vertical-align: top;\n",
       "    }\n",
       "\n",
       "    .dataframe thead th {\n",
       "        text-align: right;\n",
       "    }\n",
       "</style>\n",
       "<table border=\"1\" class=\"dataframe\">\n",
       "  <thead>\n",
       "    <tr style=\"text-align: right;\">\n",
       "      <th>experimentVariant</th>\n",
       "      <th>version</th>\n",
       "      <th>0</th>\n",
       "      <th>1</th>\n",
       "    </tr>\n",
       "  </thead>\n",
       "  <tbody>\n",
       "    <tr>\n",
       "      <th>0</th>\n",
       "      <td>v2.8.0</td>\n",
       "      <td>0.000993</td>\n",
       "      <td>0.045606</td>\n",
       "    </tr>\n",
       "    <tr>\n",
       "      <th>1</th>\n",
       "      <td>v2.9.0</td>\n",
       "      <td>0.074658</td>\n",
       "      <td>0.071304</td>\n",
       "    </tr>\n",
       "    <tr>\n",
       "      <th>2</th>\n",
       "      <td>v3.7.4.0</td>\n",
       "      <td>0.059943</td>\n",
       "      <td>0.063018</td>\n",
       "    </tr>\n",
       "    <tr>\n",
       "      <th>3</th>\n",
       "      <td>v3.8.0.0</td>\n",
       "      <td>0.057604</td>\n",
       "      <td>0.062848</td>\n",
       "    </tr>\n",
       "  </tbody>\n",
       "</table>\n",
       "</div>"
      ],
      "text/plain": [
       "experimentVariant   version         0         1\n",
       "0                    v2.8.0  0.000993  0.045606\n",
       "1                    v2.9.0  0.074658  0.071304\n",
       "2                  v3.7.4.0  0.059943  0.063018\n",
       "3                  v3.8.0.0  0.057604  0.062848"
      ]
     },
     "execution_count": 91,
     "metadata": {},
     "output_type": "execute_result"
    }
   ],
   "source": [
    "data \\\n",
    "    .groupby(['experimentVariant', 'version'], as_index=False) \\\n",
    "    .agg({'purchase': 'mean'}) \\\n",
    "    .rename(columns={'purchase':'conversion'}) \\\n",
    "    .pivot(index='version', columns='experimentVariant', values='conversion') \\\n",
    "    .reset_index() "
   ]
  },
  {
   "cell_type": "markdown",
   "id": "637732c3",
   "metadata": {},
   "source": [
    "Видим аномальную разницу конверсиями в первой группе"
   ]
  },
  {
   "cell_type": "markdown",
   "id": "a31cbd6e",
   "metadata": {},
   "source": [
    "Проведем АА тест отдельно для версии v2.8.0"
   ]
  },
  {
   "cell_type": "code",
   "execution_count": 93,
   "id": "ef39e61c",
   "metadata": {},
   "outputs": [],
   "source": [
    "group_1 = group_1[group_1.version == 'v2.8.0']\n",
    "group_2 = group_2[group_2.version == 'v2.8.0']"
   ]
  },
  {
   "cell_type": "code",
   "execution_count": 94,
   "id": "e135b748",
   "metadata": {},
   "outputs": [
    {
     "data": {
      "application/vnd.jupyter.widget-view+json": {
       "model_id": "fefab717511646cdab47746ab8a6b0b7",
       "version_major": 2,
       "version_minor": 0
      },
      "text/plain": [
       "  0%|          | 0/1000 [00:00<?, ?it/s]"
      ]
     },
     "metadata": {},
     "output_type": "display_data"
    },
    {
     "data": {
      "text/plain": [
       "1.0"
      ]
     },
     "execution_count": 94,
     "metadata": {},
     "output_type": "execute_result"
    },
    {
     "data": {
      "image/png": "[encoded data removed]",
      "text/plain": [
       "<Figure size 691.2x576 with 1 Axes>"
      ]
     },
     "metadata": {},
     "output_type": "display_data"
    }
   ],
   "source": [
    "n_s = 1000 #число элементов в эксперементальной выборке из группы \n",
    "sim = 1000 #число поторений эксперимента\n",
    "res = []\n",
    "\n",
    "for _ in tqdm(range(sim)):\n",
    "    sample_1 = group_1.purchase.sample(n_s, replace=False).values\n",
    "    sample_2 = group_2.purchase.sample(n_s, replace=False).values\n",
    "    res.append(st.ttest_ind(sample_1, sample_2)[1])\n",
    "\n",
    "sns.displot(res, height=8, aspect=1.2, bins=50)    \n",
    "    \n",
    "sum(np.array(res) < 0.05) / sim"
   ]
  },
  {
   "cell_type": "markdown",
   "id": "88cb55ce",
   "metadata": {},
   "source": [
    "# Отличия сильно значимые, поломка именно в этом месте"
   ]
  },
  {
   "cell_type": "markdown",
   "id": "87b800c4",
   "metadata": {},
   "source": [
    "## !! Правильно будет проверить и остальные версии"
   ]
  },
  {
   "cell_type": "code",
   "execution_count": null,
   "id": "30e29341",
   "metadata": {},
   "outputs": [],
   "source": []
  }
 ],
 "metadata": {
  "kernelspec": {
   "display_name": "Python 3 (ipykernel)",
   "language": "python",
   "name": "python3"
  },
  "language_info": {
   "codemirror_mode": {
    "name": "ipython",
    "version": 3
   },
   "file_extension": ".py",
   "mimetype": "text/x-python",
   "name": "python",
   "nbconvert_exporter": "python",
   "pygments_lexer": "ipython3",
   "version": "3.9.12"
  }
 },
 "nbformat": 4,
 "nbformat_minor": 5
}
