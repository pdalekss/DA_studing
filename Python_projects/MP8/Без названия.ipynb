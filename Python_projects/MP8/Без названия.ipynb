{
 "cells": [
  {
   "cell_type": "markdown",
   "id": "9eb2a2a5",
   "metadata": {},
   "source": [
    "В рамках дополнительного проекта попробуем освоить API, позволяющий получать данные о музейных коллекциях."
   ]
  },
  {
   "cell_type": "code",
   "execution_count": 1,
   "id": "69de88aa",
   "metadata": {},
   "outputs": [],
   "source": [
    "import requests\n",
    "import pandas as pd\n",
    "import seaborn as sns\n",
    "import matplotlib.pyplot as plt"
   ]
  },
  {
   "cell_type": "markdown",
   "id": "e46a4560",
   "metadata": {},
   "source": [
    "Предположим, ваша задача – найти все произведения, связанные с подсолнухами. Выполните поиск по слову \"sunflowers\". Внимательно посмотрите на формат ответа и сохраните id полученных объектов в список sunflower_ids.\n",
    "\n",
    "В качестве ответа выберите id объектов (3), которые присутствуют в полученном списке: [20149, 436524, 16822570, 2032, 437329]"
   ]
  },
  {
   "cell_type": "code",
   "execution_count": 6,
   "id": "32bc9b8e",
   "metadata": {},
   "outputs": [],
   "source": [
    "r = requests.get('https://collectionapi.metmuseum.org/public/collection/v1/search?q=sunflowers')"
   ]
  },
  {
   "cell_type": "code",
   "execution_count": 11,
   "id": "ebe450dd",
   "metadata": {},
   "outputs": [],
   "source": [
    "res = r.json()\n",
    "sunflower_ids = res['objectIDs']"
   ]
  },
  {
   "cell_type": "code",
   "execution_count": 13,
   "id": "9e6fa12b",
   "metadata": {},
   "outputs": [],
   "source": [
    "asw = [20149, 436524, 16822570, 2032, 437329]"
   ]
  },
  {
   "cell_type": "code",
   "execution_count": 14,
   "id": "df9146b5",
   "metadata": {},
   "outputs": [
    {
     "data": {
      "text/plain": [
       "[2032, 437329, 436524]"
      ]
     },
     "execution_count": 14,
     "metadata": {},
     "output_type": "execute_result"
    }
   ],
   "source": [
    "list(set(sunflower_ids).intersection(set(asw)))"
   ]
  },
  {
   "cell_type": "markdown",
   "id": "6ee7c013",
   "metadata": {},
   "source": [
    "Следущий этап – собрать информацию об этих объектах. Выполните запрос для объекта 437980."
   ]
  },
  {
   "cell_type": "code",
   "execution_count": 16,
   "id": "7acfd183",
   "metadata": {},
   "outputs": [],
   "source": [
    "r_info_by_id = requests.get(f'https://collectionapi.metmuseum.org/public/collection/v1/objects/437980')"
   ]
  },
  {
   "cell_type": "code",
   "execution_count": 19,
   "id": "fc17dc40",
   "metadata": {},
   "outputs": [],
   "source": [
    "info_by_id = r_info_by_id.json()"
   ]
  },
  {
   "cell_type": "markdown",
   "id": "e38640b5",
   "metadata": {},
   "source": [
    "Теперь напишите цикл, с помощью которого будет собрана информация об объектах, которые были получены на 2 шаге. Результаты запишите в датафрейм, а именно – следующие параметры:\n",
    "\n",
    "objectID – id объекта\n",
    "title – название\n",
    "artistDisplayName – автор\n",
    "department – департамент\n",
    "objectBeginDate – дата (начало)\n",
    "objectEndDate – дата (конец)\n",
    "period – название периода\n",
    "objectName – название/категория объекта\n",
    "culture – культура\n",
    "Сколько объектов относятся к японской культуре? (culture –Japan)"
   ]
  },
  {
   "cell_type": "code",
   "execution_count": 43,
   "id": "ed67f68a",
   "metadata": {},
   "outputs": [],
   "source": [
    "sun_req_urls = ['https://collectionapi.metmuseum.org/public/collection/v1/objects/{}'.format(id) for id in sunflower_ids]"
   ]
  },
  {
   "cell_type": "code",
   "execution_count": 44,
   "id": "d83664c9",
   "metadata": {},
   "outputs": [],
   "source": [
    "info_about_sunflowers_obj = [requests.get(url).json() for url in sun_req_urls]"
   ]
  },
  {
   "cell_type": "code",
   "execution_count": 30,
   "id": "9decec7c",
   "metadata": {},
   "outputs": [
    {
     "data": {
      "text/html": [
       "<div>\n",
       "<style scoped>\n",
       "    .dataframe tbody tr th:only-of-type {\n",
       "        vertical-align: middle;\n",
       "    }\n",
       "\n",
       "    .dataframe tbody tr th {\n",
       "        vertical-align: top;\n",
       "    }\n",
       "\n",
       "    .dataframe thead th {\n",
       "        text-align: right;\n",
       "    }\n",
       "</style>\n",
       "<table border=\"1\" class=\"dataframe\">\n",
       "  <thead>\n",
       "    <tr style=\"text-align: right;\">\n",
       "      <th></th>\n",
       "      <th>objectID</th>\n",
       "      <th>title</th>\n",
       "      <th>artistDisplayName</th>\n",
       "      <th>department</th>\n",
       "      <th>objectBeginDate</th>\n",
       "      <th>objectEndDate</th>\n",
       "      <th>period</th>\n",
       "      <th>objectName</th>\n",
       "      <th>culture</th>\n",
       "    </tr>\n",
       "  </thead>\n",
       "  <tbody>\n",
       "    <tr>\n",
       "      <th>29</th>\n",
       "      <td>57922.0</td>\n",
       "      <td>Incense box</td>\n",
       "      <td></td>\n",
       "      <td>Asian Art</td>\n",
       "      <td>1700.0</td>\n",
       "      <td>1799.0</td>\n",
       "      <td>Edo period (1615–1868)</td>\n",
       "      <td>Incense box</td>\n",
       "      <td>Japan</td>\n",
       "    </tr>\n",
       "  </tbody>\n",
       "</table>\n",
       "</div>"
      ],
      "text/plain": [
       "    objectID        title artistDisplayName department  objectBeginDate  \\\n",
       "29   57922.0  Incense box                    Asian Art           1700.0   \n",
       "\n",
       "    objectEndDate                  period   objectName culture  \n",
       "29         1799.0  Edo period (1615–1868)  Incense box   Japan  "
      ]
     },
     "execution_count": 30,
     "metadata": {},
     "output_type": "execute_result"
    }
   ],
   "source": [
    "sunflowers_df = pd.DataFrame(info_about_sunflowers_obj)\n",
    "sunflowers_df = sunflowers_df[['objectID',\n",
    "         'title',\n",
    "         'artistDisplayName',\n",
    "         'department',\n",
    "         'objectBeginDate',\n",
    "         'objectEndDate',\n",
    "         'period',\n",
    "         'objectName',\n",
    "         'culture']]\n",
    "sunflowers_df.query('culture == \"Japan\"')"
   ]
  },
  {
   "cell_type": "markdown",
   "id": "8d985d77",
   "metadata": {},
   "source": [
    "Теперь попробуем построить более сложный запрос с помощью секции \"Search\"! На этот раз параметры необходимо передать через \"&\". Выполните поисковый запрос для департамента \"Asian art\" (departmentId = 6) с тегом \"cat\" и запишите id объектов в cat_ids. Используйте цикл из шага 4, чтобы получить данные о первой 1000 объектов из списка.\n",
    "\n",
    "В качестве ответа укажите, в каком периоде (period) было выполнено наибольшее количество работ, представленных в музее?"
   ]
  },
  {
   "cell_type": "code",
   "execution_count": 36,
   "id": "afda007e",
   "metadata": {},
   "outputs": [],
   "source": [
    "cats_req = requests.get('https://collectionapi.metmuseum.org/public/collection/v1/search?departmentId=6&q=cat')\n",
    "cats_ids = cats_req.json()['objectIDs']"
   ]
  },
  {
   "cell_type": "code",
   "execution_count": 41,
   "id": "fc6f223d",
   "metadata": {},
   "outputs": [],
   "source": [
    "cats_ids_1000 = [cats_ids[ind] for ind in range(1000)]"
   ]
  },
  {
   "cell_type": "code",
   "execution_count": 45,
   "id": "36492835",
   "metadata": {},
   "outputs": [],
   "source": [
    "cats_req_urls = ['https://collectionapi.metmuseum.org/public/collection/v1/objects/{}'.format(id) for id in cats_ids_1000]"
   ]
  },
  {
   "cell_type": "code",
   "execution_count": 46,
   "id": "308a5b8a",
   "metadata": {},
   "outputs": [],
   "source": [
    "info_abouts_cats = [requests.get(url).json() for url in cats_req_urls]"
   ]
  },
  {
   "cell_type": "code",
   "execution_count": 47,
   "id": "db8739ca",
   "metadata": {},
   "outputs": [],
   "source": [
    "cats_df = pd.DataFrame(info_abouts_cats)"
   ]
  },
  {
   "cell_type": "code",
   "execution_count": 48,
   "id": "2065b71d",
   "metadata": {},
   "outputs": [
    {
     "data": {
      "text/html": [
       "<div>\n",
       "<style scoped>\n",
       "    .dataframe tbody tr th:only-of-type {\n",
       "        vertical-align: middle;\n",
       "    }\n",
       "\n",
       "    .dataframe tbody tr th {\n",
       "        vertical-align: top;\n",
       "    }\n",
       "\n",
       "    .dataframe thead th {\n",
       "        text-align: right;\n",
       "    }\n",
       "</style>\n",
       "<table border=\"1\" class=\"dataframe\">\n",
       "  <thead>\n",
       "    <tr style=\"text-align: right;\">\n",
       "      <th></th>\n",
       "      <th>period</th>\n",
       "      <th>count</th>\n",
       "    </tr>\n",
       "  </thead>\n",
       "  <tbody>\n",
       "    <tr>\n",
       "      <th>16</th>\n",
       "      <td>Edo period (1615–1868)</td>\n",
       "      <td>442</td>\n",
       "    </tr>\n",
       "    <tr>\n",
       "      <th>0</th>\n",
       "      <td></td>\n",
       "      <td>99</td>\n",
       "    </tr>\n",
       "    <tr>\n",
       "      <th>75</th>\n",
       "      <td>Qing dynasty (1644–1911)</td>\n",
       "      <td>58</td>\n",
       "    </tr>\n",
       "    <tr>\n",
       "      <th>42</th>\n",
       "      <td>Ming dynasty (1368–1644)</td>\n",
       "      <td>41</td>\n",
       "    </tr>\n",
       "    <tr>\n",
       "      <th>63</th>\n",
       "      <td>Muromachi period (1392–1573)</td>\n",
       "      <td>30</td>\n",
       "    </tr>\n",
       "  </tbody>\n",
       "</table>\n",
       "</div>"
      ],
      "text/plain": [
       "                          period  count\n",
       "16        Edo period (1615–1868)    442\n",
       "0                                    99\n",
       "75      Qing dynasty (1644–1911)     58\n",
       "42      Ming dynasty (1368–1644)     41\n",
       "63  Muromachi period (1392–1573)     30"
      ]
     },
     "execution_count": 48,
     "metadata": {},
     "output_type": "execute_result"
    }
   ],
   "source": [
    "cats_df \\\n",
    "    .groupbyoupbyoupby('period', as_index=False) \\\n",
    "    .agg({'objectID':'count'}) \\\n",
    "    .rename(columns={'objectID':'count'}) \\\n",
    "    .sort_values('count', ascending=False) \\\n",
    "    .head()"
   ]
  }
 ],
 "metadata": {
  "kernelspec": {
   "display_name": "Python 3 (ipykernel)",
   "language": "python",
   "name": "python3"
  },
  "language_info": {
   "codemirror_mode": {
    "name": "ipython",
    "version": 3
   },
   "file_extension": ".py",
   "mimetype": "text/x-python",
   "name": "python",
   "nbconvert_exporter": "python",
   "pygments_lexer": "ipython3",
   "version": "3.9.12"
  }
 },
 "nbformat": 4,
 "nbformat_minor": 5
}
