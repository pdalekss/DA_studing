{
 "cells": [
  {
   "cell_type": "markdown",
   "id": "ad5cf516",
   "metadata": {},
   "source": [
    "Имеется таблица с записями о компаниях, включая их ИНН, и отдельный текстовый файл с набором ИНН.\n",
    "\n",
    "Задачи:\n",
    "* 1) извлечь из таблицы записи с ИНН, указанными в текстовом файле\n",
    "* 2) записать результат в файл selected_inn.csv"
   ]
  },
  {
   "cell_type": "code",
   "execution_count": 1,
   "id": "36e33e2e",
   "metadata": {},
   "outputs": [],
   "source": [
    "import pandas as pd"
   ]
  },
  {
   "cell_type": "code",
   "execution_count": 14,
   "id": "8f13f677",
   "metadata": {},
   "outputs": [
    {
     "data": {
      "text/html": [
       "<div>\n",
       "<style scoped>\n",
       "    .dataframe tbody tr th:only-of-type {\n",
       "        vertical-align: middle;\n",
       "    }\n",
       "\n",
       "    .dataframe tbody tr th {\n",
       "        vertical-align: top;\n",
       "    }\n",
       "\n",
       "    .dataframe thead th {\n",
       "        text-align: right;\n",
       "    }\n",
       "</style>\n",
       "<table border=\"1\" class=\"dataframe\">\n",
       "  <thead>\n",
       "    <tr style=\"text-align: right;\">\n",
       "      <th></th>\n",
       "      <th>Unnamed: 0</th>\n",
       "      <th>#</th>\n",
       "      <th>name</th>\n",
       "      <th>reg_number</th>\n",
       "      <th>address</th>\n",
       "      <th>head</th>\n",
       "      <th>head_job</th>\n",
       "      <th>head_inn</th>\n",
       "      <th>phone</th>\n",
       "      <th>email</th>\n",
       "      <th>site</th>\n",
       "      <th>registration_date</th>\n",
       "      <th>nalogoplatelschik_code</th>\n",
       "      <th>oktmo_code</th>\n",
       "      <th>okato_code</th>\n",
       "      <th>registration_region</th>\n",
       "      <th>okato_name</th>\n",
       "      <th>field</th>\n",
       "      <th>capital,RUB</th>\n",
       "      <th>income,RUB</th>\n",
       "    </tr>\n",
       "  </thead>\n",
       "  <tbody>\n",
       "    <tr>\n",
       "      <th>0</th>\n",
       "      <td>0</td>\n",
       "      <td>0</td>\n",
       "      <td>ЗАО «Власова, Макаров и Шашков»</td>\n",
       "      <td>1143692580560</td>\n",
       "      <td>д. Кирово-Чепецк, пр. Металлургов, д. 537 к. 3...</td>\n",
       "      <td>Жданов Карл Виленович</td>\n",
       "      <td>Маммолог</td>\n",
       "      <td>109092209811</td>\n",
       "      <td>+7 (559) 338-87-76</td>\n",
       "      <td>bogdanovavtonom@yahoo.com</td>\n",
       "      <td>ooo.info</td>\n",
       "      <td>2015-01-07</td>\n",
       "      <td>2006-10-04</td>\n",
       "      <td>21112877268</td>\n",
       "      <td>73423615032</td>\n",
       "      <td>Ulan-Ude</td>\n",
       "      <td>к. Тосно, ул. Пушкинская, д. 896, 617222</td>\n",
       "      <td>Синхронизация критически важных отношений</td>\n",
       "      <td>54875526078</td>\n",
       "      <td>32205872896</td>\n",
       "    </tr>\n",
       "    <tr>\n",
       "      <th>1</th>\n",
       "      <td>1</td>\n",
       "      <td>1</td>\n",
       "      <td>РАО «Тимофеева, Алексеева и Кузнецова»</td>\n",
       "      <td>9342309660697</td>\n",
       "      <td>г. Арзамас, наб. Фестивальная, д. 7 стр. 8/2, ...</td>\n",
       "      <td>Рожков Харлампий Алексеевич</td>\n",
       "      <td>Воспитатель</td>\n",
       "      <td>704229465069</td>\n",
       "      <td>8 (632) 620-8879</td>\n",
       "      <td>safonovantonin@rao.org</td>\n",
       "      <td>ooo.net</td>\n",
       "      <td>1990-05-16</td>\n",
       "      <td>2019-01-18</td>\n",
       "      <td>18393547520</td>\n",
       "      <td>19072454279</td>\n",
       "      <td>Tyoply Stan</td>\n",
       "      <td>ст. Кяхта, бул. Нефтяников, д. 24, 768742</td>\n",
       "      <td>Формирование заказных методик</td>\n",
       "      <td>33876448811</td>\n",
       "      <td>47437574301</td>\n",
       "    </tr>\n",
       "    <tr>\n",
       "      <th>2</th>\n",
       "      <td>2</td>\n",
       "      <td>2</td>\n",
       "      <td>РАО «Юдин-Ефимова»</td>\n",
       "      <td>1277485323451</td>\n",
       "      <td>п. Меренга, алл. Достоевского, д. 3/4 к. 497, ...</td>\n",
       "      <td>Филимон Фадеевич Дьячков</td>\n",
       "      <td>Автослесарь</td>\n",
       "      <td>267655036377</td>\n",
       "      <td>+74925330378</td>\n",
       "      <td>kdorofeev@npo.ru</td>\n",
       "      <td>ao.com</td>\n",
       "      <td>1982-11-04</td>\n",
       "      <td>1986-06-19</td>\n",
       "      <td>56104355836</td>\n",
       "      <td>18629292792</td>\n",
       "      <td>Danilov</td>\n",
       "      <td>клх Усолье Сибирское, алл. Шишкина, д. 3/9 к. ...</td>\n",
       "      <td>Максимизация корпоративных метрик</td>\n",
       "      <td>94073834991</td>\n",
       "      <td>7701710065</td>\n",
       "    </tr>\n",
       "  </tbody>\n",
       "</table>\n",
       "</div>"
      ],
      "text/plain": [
       "   Unnamed: 0  #                                    name     reg_number  \\\n",
       "0           0  0         ЗАО «Власова, Макаров и Шашков»  1143692580560   \n",
       "1           1  1  РАО «Тимофеева, Алексеева и Кузнецова»  9342309660697   \n",
       "2           2  2                      РАО «Юдин-Ефимова»  1277485323451   \n",
       "\n",
       "                                             address  \\\n",
       "0  д. Кирово-Чепецк, пр. Металлургов, д. 537 к. 3...   \n",
       "1  г. Арзамас, наб. Фестивальная, д. 7 стр. 8/2, ...   \n",
       "2  п. Меренга, алл. Достоевского, д. 3/4 к. 497, ...   \n",
       "\n",
       "                          head     head_job      head_inn               phone  \\\n",
       "0        Жданов Карл Виленович     Маммолог  109092209811  +7 (559) 338-87-76   \n",
       "1  Рожков Харлампий Алексеевич  Воспитатель  704229465069    8 (632) 620-8879   \n",
       "2     Филимон Фадеевич Дьячков  Автослесарь  267655036377        +74925330378   \n",
       "\n",
       "                       email      site registration_date  \\\n",
       "0  bogdanovavtonom@yahoo.com  ooo.info        2015-01-07   \n",
       "1     safonovantonin@rao.org   ooo.net        1990-05-16   \n",
       "2           kdorofeev@npo.ru    ao.com        1982-11-04   \n",
       "\n",
       "  nalogoplatelschik_code   oktmo_code   okato_code registration_region  \\\n",
       "0             2006-10-04  21112877268  73423615032            Ulan-Ude   \n",
       "1             2019-01-18  18393547520  19072454279         Tyoply Stan   \n",
       "2             1986-06-19  56104355836  18629292792             Danilov   \n",
       "\n",
       "                                          okato_name  \\\n",
       "0           к. Тосно, ул. Пушкинская, д. 896, 617222   \n",
       "1          ст. Кяхта, бул. Нефтяников, д. 24, 768742   \n",
       "2  клх Усолье Сибирское, алл. Шишкина, д. 3/9 к. ...   \n",
       "\n",
       "                                       field  capital,RUB   income,RUB  \n",
       "0  Синхронизация критически важных отношений  54875526078  32205872896  \n",
       "1              Формирование заказных методик  33876448811  47437574301  \n",
       "2          Максимизация корпоративных метрик  94073834991   7701710065  "
      ]
     },
     "execution_count": 14,
     "metadata": {},
     "output_type": "execute_result"
    }
   ],
   "source": [
    "full_data = pd.read_excel('4_inn.xls') \n",
    "full_data.head(3)"
   ]
  },
  {
   "cell_type": "code",
   "execution_count": 62,
   "id": "840cd677",
   "metadata": {},
   "outputs": [],
   "source": [
    "necessary_inn = pd.read_csv('4_necessary_inn.txt', header=None)[0].tolist()"
   ]
  },
  {
   "cell_type": "code",
   "execution_count": 66,
   "id": "969d44ad",
   "metadata": {},
   "outputs": [],
   "source": [
    "filtered_data = full_data.query('head_inn in @necessary_inn')"
   ]
  },
  {
   "cell_type": "markdown",
   "id": "cdc6e205",
   "metadata": {},
   "source": [
    "В качестве проверки укажите сумму колонки income,RUB в отобранных данных."
   ]
  },
  {
   "cell_type": "code",
   "execution_count": 64,
   "id": "fb58f308",
   "metadata": {},
   "outputs": [
    {
     "data": {
      "text/plain": [
       "6104522627393"
      ]
     },
     "execution_count": 64,
     "metadata": {},
     "output_type": "execute_result"
    }
   ],
   "source": [
    "filtered_data['income,RUB'].sum()"
   ]
  },
  {
   "cell_type": "code",
   "execution_count": null,
   "id": "ded6fd54",
   "metadata": {},
   "outputs": [],
   "source": []
  }
 ],
 "metadata": {
  "kernelspec": {
   "display_name": "Python 3 (ipykernel)",
   "language": "python",
   "name": "python3"
  },
  "language_info": {
   "codemirror_mode": {
    "name": "ipython",
    "version": 3
   },
   "file_extension": ".py",
   "mimetype": "text/x-python",
   "name": "python",
   "nbconvert_exporter": "python",
   "pygments_lexer": "ipython3",
   "version": "3.9.12"
  }
 },
 "nbformat": 4,
 "nbformat_minor": 5
}
